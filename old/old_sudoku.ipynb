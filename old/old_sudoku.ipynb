{
 "cells": [
  {
   "cell_type": "code",
   "execution_count": 444,
   "id": "0455d0c6",
   "metadata": {},
   "outputs": [],
   "source": [
    "# read file & change board into workable format\n",
    "board = []\n",
    "temp = []\n",
    "\n",
    "def read_file(filename):\n",
    "    with open(filename) as f:\n",
    "        lines = f.readlines()\n",
    "    for line in lines:\n",
    "        #board.append(line.split(\"|\")[1:10])\n",
    "        line = line.split(\"|\")[1:10]\n",
    "        for element in line:\n",
    "            if element == ' ':\n",
    "                temp.append(0)\n",
    "            else:\n",
    "                temp.append(int(element))\n",
    "   \n",
    "    for i in range(0, len(temp), 9):\n",
    "        board.append(temp[i:i+9])\n",
    "        \n",
    "read_file('test.txt')"
   ]
  },
  {
   "cell_type": "code",
   "execution_count": 446,
   "id": "f20e1f09",
   "metadata": {},
   "outputs": [],
   "source": [
    "# find empty boxes\n",
    "def empty(board):\n",
    "    for i in range(len(board)):\n",
    "        for j in range(len(board[0])):\n",
    "            if board[i][j] == 0:\n",
    "                return (i, j)"
   ]
  },
  {
   "cell_type": "code",
   "execution_count": 447,
   "id": "381bf5ec",
   "metadata": {},
   "outputs": [],
   "source": [
    "# check for constraints\n",
    "def check(board, val, loc):\n",
    "    # check for row & column duplicates\n",
    "    for i in range(len(board[0])):\n",
    "        # row constraints\n",
    "        if board[loc[0]][i] == val and loc[1] != i:\n",
    "            return False\n",
    "     \n",
    "        # column constraints\n",
    "        if board[i][loc[1]] == val and loc[0] != i:\n",
    "            return False\n",
    "        \n",
    "    # check for duplicates inside 9x9 square \n",
    "    row_index = loc[0] // 3\n",
    "    col_index = loc[1] // 3\n",
    "\n",
    "    for j in range(row_index*3, row_index*3 + 3):\n",
    "        for k in range(col_index*3, col_index*3 + 3):\n",
    "            if board[j][k] == val and loc != (j, k):\n",
    "                return False\n",
    "    \n",
    "    return True"
   ]
  },
  {
   "cell_type": "code",
   "execution_count": 448,
   "id": "f20062ef",
   "metadata": {},
   "outputs": [],
   "source": [
    "# recursive function for backtracking\n",
    "def backtrack(board):\n",
    "    # if filled, pass\n",
    "    if not empty(board):\n",
    "        return True\n",
    "    \n",
    "    # if empty, check for constraints and fill values (domain: 1 through 9)\n",
    "    else:\n",
    "        row = empty(board)[0]\n",
    "        col = empty(board)[1]\n",
    "        \n",
    "    for i in range(1, 10):\n",
    "        if check(board, i, empty(board)):\n",
    "            board[row][col] = i\n",
    "                \n",
    "            if backtrack(board):\n",
    "                return True\n",
    "            # reset (backtrack) if False\n",
    "            else:\n",
    "                board[row][col] = 0\n",
    "                    \n",
    "    return False"
   ]
  },
  {
   "cell_type": "code",
   "execution_count": 507,
   "id": "679ea64c",
   "metadata": {},
   "outputs": [],
   "source": [
    "def format_board(board):\n",
    "    output = ''\n",
    "    final = ''\n",
    "    for i in board:\n",
    "        for j in i:\n",
    "            output = output + str(j)\n",
    "\n",
    "    for k in range(0, len(output), 9):\n",
    "        final = final + output[k:k+9] + '\\n'\n",
    "\n",
    "    final = '|' + '|'.join(final[l:l+1] for l in range(0, len(final)))\n",
    "    print(final)"
   ]
  },
  {
   "cell_type": "code",
   "execution_count": 511,
   "id": "fb54e20b",
   "metadata": {},
   "outputs": [
    {
     "name": "stdout",
     "output_type": "stream",
     "text": [
      "|8|4|6|9|3|7|1|5|2|\n",
      "|3|1|9|6|2|5|8|4|7|\n",
      "|7|5|2|1|8|4|9|6|3|\n",
      "|2|8|5|7|1|3|6|9|4|\n",
      "|4|6|3|8|5|9|2|7|1|\n",
      "|9|7|1|2|4|6|3|8|5|\n",
      "|1|2|7|5|9|8|4|3|6|\n",
      "|6|3|8|4|7|1|5|2|9|\n",
      "|5|9|4|3|6|2|7|1|8|\n",
      "\n"
     ]
    }
   ],
   "source": [
    "format_board(board)"
   ]
  }
 ],
 "metadata": {
  "kernelspec": {
   "display_name": "Python 3 (ipykernel)",
   "language": "python",
   "name": "python3"
  },
  "language_info": {
   "codemirror_mode": {
    "name": "ipython",
    "version": 3
   },
   "file_extension": ".py",
   "mimetype": "text/x-python",
   "name": "python",
   "nbconvert_exporter": "python",
   "pygments_lexer": "ipython3",
   "version": "3.9.7"
  }
 },
 "nbformat": 4,
 "nbformat_minor": 5
}
