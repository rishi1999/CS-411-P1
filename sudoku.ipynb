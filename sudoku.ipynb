{
 "cells": [
  {
   "cell_type": "code",
   "execution_count": 29,
   "id": "d4262e3b-af3e-4d67-9ea3-37e59badf931",
   "metadata": {},
   "outputs": [],
   "source": [
    "def read_data(filename):\n",
    "    with open(filename) as f:\n",
    "        data = f.readlines()\n",
    "\n",
    "    board = []\n",
    "\n",
    "    for line in data:\n",
    "        line = line.strip()  # remove newline character\n",
    "        row = line.split(\"|\")[1:-1]\n",
    "        board.append(row)\n",
    "    \n",
    "    return board"
   ]
  },
  {
   "cell_type": "code",
   "execution_count": 30,
   "id": "720657fa-a048-4e42-a0c2-f7e9a82f6628",
   "metadata": {},
   "outputs": [],
   "source": [
    "def display_board(board):\n",
    "    for row in board:\n",
    "        print(\"|\", end=\"\")\n",
    "        for cell in row:\n",
    "            print(cell, end=\"|\")\n",
    "        print()"
   ]
  },
  {
   "cell_type": "code",
   "execution_count": 31,
   "id": "51e4f757-5dcf-47e5-9b8c-6d4a508f433a",
   "metadata": {},
   "outputs": [
    {
     "name": "stdout",
     "output_type": "stream",
     "text": [
      "|8| | |9|3| | | |2|\n",
      "| | |9| | | | |4| |\n",
      "|7| |2|1| | |9|6| |\n",
      "|2| | | | | | |9| |\n",
      "| |6| | | | | |7| |\n",
      "| |7| | | |6| | |5|\n",
      "| |2|7| | |8|4| |6|\n",
      "| |3| | | | |5| | |\n",
      "|5| | | |6|2| | |8|\n"
     ]
    }
   ],
   "source": [
    "board = read_data(\"input.txt\")\n",
    "display_board(board)"
   ]
  }
 ],
 "metadata": {
  "kernelspec": {
   "display_name": "Python [conda env:cs411]",
   "language": "python",
   "name": "conda-env-cs411-py"
  },
  "language_info": {
   "codemirror_mode": {
    "name": "ipython",
    "version": 3
   },
   "file_extension": ".py",
   "mimetype": "text/x-python",
   "name": "python",
   "nbconvert_exporter": "python",
   "pygments_lexer": "ipython3",
   "version": "3.10.2"
  }
 },
 "nbformat": 4,
 "nbformat_minor": 5
}
