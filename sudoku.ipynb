{
 "cells": [
  {
   "cell_type": "code",
   "execution_count": 337,
   "id": "b81877f1-1fb1-4278-91f8-545f908ee481",
   "metadata": {},
   "outputs": [],
   "source": [
    "import copy"
   ]
  },
  {
   "cell_type": "code",
   "execution_count": 338,
   "id": "7e0715f5-a5a8-46c8-8ac0-ae669a344065",
   "metadata": {},
   "outputs": [],
   "source": [
    "def setup_domains():\n",
    "    domains = []  # domain for each cell\n",
    "    avails = []  # size of the domain for each cell\n",
    "    for i in range(9):\n",
    "        domains.append([])\n",
    "        avails.append([])\n",
    "        for j in range(9):\n",
    "            domains[i].append([])\n",
    "            avails[i].append(9)\n",
    "            for k in range(9):\n",
    "                domains[i][j].append(True)\n",
    "    return domains, avails"
   ]
  },
  {
   "cell_type": "code",
   "execution_count": 339,
   "id": "d4262e3b-af3e-4d67-9ea3-37e59badf931",
   "metadata": {},
   "outputs": [],
   "source": [
    "def read_data(filename, domains, avails):\n",
    "    with open(filename) as f:\n",
    "        data = f.readlines()\n",
    "\n",
    "    board = []\n",
    "\n",
    "    for i, line in enumerate(data):\n",
    "        line = line.strip()  # remove newline character\n",
    "        line = line.split(\"|\")[1:-1]\n",
    "        row = []\n",
    "        for j, cell in enumerate(line):\n",
    "            if cell == \" \":\n",
    "                row.append(0)  # 0 represents an empty cell\n",
    "            else:\n",
    "                cell = int(cell)\n",
    "                row.append(cell)\n",
    "                domains, avails = edit_domains(domains, avails, i, j, cell)\n",
    "        board.append(row)\n",
    "    \n",
    "    return board, domains, avails"
   ]
  },
  {
   "cell_type": "code",
   "execution_count": 340,
   "id": "720657fa-a048-4e42-a0c2-f7e9a82f6628",
   "metadata": {},
   "outputs": [],
   "source": [
    "def display_board(board):\n",
    "    for row in board:\n",
    "        print(\"|\", end=\"\")\n",
    "        for cell in row:\n",
    "            print(cell, end=\"|\")\n",
    "        print()"
   ]
  },
  {
   "cell_type": "code",
   "execution_count": 341,
   "id": "7c795877-4930-4b50-8eec-fad7ccf57349",
   "metadata": {},
   "outputs": [],
   "source": [
    "def edit_domains(domains, avails, i, j, k):\n",
    "    domains = copy.deepcopy(domains)\n",
    "    avails = copy.deepcopy(avails)\n",
    "    \n",
    "    domains[i][j] = [False] * 9\n",
    "    domains[i][j][k-1] = True\n",
    "    avails[i][j] = 1\n",
    "    \n",
    "    # same column\n",
    "    for x in range(9):\n",
    "        y = j\n",
    "        if x != i:\n",
    "            if domains[x][y][k-1]:\n",
    "                avails[x][y] -= 1\n",
    "            domains[x][y][k-1] = False\n",
    "    \n",
    "    # same row\n",
    "    for y in range(9):\n",
    "        x = i\n",
    "        if y != j:\n",
    "            if domains[x][y][k-1]:\n",
    "                avails[x][y] -= 1\n",
    "            domains[x][y][k-1] = False\n",
    "            \n",
    "    # same square\n",
    "    r = i // 3\n",
    "    c = j // 3\n",
    "    for x in range(3*r, 3*(r+1)):\n",
    "        for y in range(3*c, 3*(c+1)):\n",
    "            if x != i and y != j:\n",
    "                if domains[x][y][k-1]:\n",
    "                    avails[x][y] -= 1\n",
    "                domains[x][y][k-1] = False\n",
    "    \n",
    "    return domains, avails"
   ]
  },
  {
   "cell_type": "code",
   "execution_count": 342,
   "id": "fd88aaab-25a4-4e9a-939b-0dd3c784ef36",
   "metadata": {},
   "outputs": [],
   "source": [
    "def check_consistency(avails):\n",
    "    for i in range(9):\n",
    "        for j in range(9):\n",
    "            if avails[i][j] == 0:\n",
    "                # print(f\"DEBUG: cell ({i},{j}) is doomed!\\n\")\n",
    "                return False\n",
    "    return True"
   ]
  },
  {
   "cell_type": "code",
   "execution_count": 343,
   "id": "22d08b6e-f60d-4f8a-9be4-54303990ee61",
   "metadata": {},
   "outputs": [],
   "source": [
    "def edit_cell(num, board, domains, avails):\n",
    "    if num >= 81:\n",
    "        return True, board, domains, avails\n",
    "    \n",
    "    i = num // 9\n",
    "    j = num % 9\n",
    "    assert i * 9 + j == num\n",
    "    \n",
    "    board = copy.deepcopy(board)\n",
    "    domains = copy.deepcopy(domains)\n",
    "    avails = copy.deepcopy(avails)\n",
    "    \n",
    "    for k, val in enumerate(domains[i][j]):\n",
    "        if val:\n",
    "            board[i][j] = k+1\n",
    "            new_domains, new_avails = edit_domains(domains, avails, i, j, k+1)\n",
    "            \n",
    "            # print(f\"DEBUG: putting {k+1} in cell ({i},{j})\")\n",
    "            # display_board(board)\n",
    "            # print()\n",
    "            \n",
    "            if check_consistency(new_avails):\n",
    "                res, new_board, new_domains, new_avails = edit_cell(num + 1, board, new_domains, new_avails)\n",
    "                if res:\n",
    "                    return True, new_board, new_domains, new_avails\n",
    "    # print(f\"DEBUG: no other options in cell ({i},{j}).. going back to previous cell\\n\")\n",
    "    return False, board, domains, avails"
   ]
  },
  {
   "cell_type": "code",
   "execution_count": 348,
   "id": "52b15bfa-1768-4854-af7e-c4460d60511e",
   "metadata": {},
   "outputs": [],
   "source": [
    "def solve(board, domains, avails):\n",
    "    res, board, domains, avails = edit_cell(0, board, domains, avails)\n",
    "    print(f\"this sudoku puzzle solvable: {res}\")\n",
    "    display_board(board)"
   ]
  },
  {
   "cell_type": "code",
   "execution_count": 356,
   "id": "2b0d21a3-8e8d-435c-bfef-7b292ee9b1b2",
   "metadata": {},
   "outputs": [
    {
     "name": "stdout",
     "output_type": "stream",
     "text": [
      "|8|0|0|9|3|0|0|0|2|\n",
      "|0|0|9|0|0|0|0|4|0|\n",
      "|7|0|2|1|0|0|9|6|0|\n",
      "|2|0|0|0|0|0|0|9|0|\n",
      "|0|6|0|0|0|0|0|7|0|\n",
      "|0|7|0|0|0|6|0|0|5|\n",
      "|0|2|7|0|0|8|4|0|6|\n",
      "|0|3|0|0|0|0|5|0|0|\n",
      "|5|0|0|0|6|2|0|0|8|\n"
     ]
    }
   ],
   "source": [
    "domains, avails = setup_domains()\n",
    "board, domains, avails = read_data(\"input.txt\", domains, avails)\n",
    "display_board(board)"
   ]
  },
  {
   "cell_type": "code",
   "execution_count": 353,
   "id": "6d6b6362-140b-4d5b-a966-50893214329f",
   "metadata": {
    "tags": []
   },
   "outputs": [],
   "source": [
    "assert domains[0][0] == [False, False, False, False, False, False, False, True, False]\n",
    "assert domains[0][1] == [True, False, False, True, True, False, False, False, False]\n",
    "assert avails[0][0] == 1\n",
    "assert avails[0][1] == 3"
   ]
  },
  {
   "cell_type": "code",
   "execution_count": 354,
   "id": "283438e6-04ec-46a1-a08c-ac671e46ef3d",
   "metadata": {},
   "outputs": [],
   "source": [
    "from time import perf_counter"
   ]
  },
  {
   "cell_type": "code",
   "execution_count": 357,
   "id": "74862d79-4918-421b-bce3-c86a593b2ddd",
   "metadata": {},
   "outputs": [
    {
     "name": "stdout",
     "output_type": "stream",
     "text": [
      "this sudoku puzzle solvable: True\n",
      "|8|4|6|9|3|7|1|5|2|\n",
      "|3|1|9|6|2|5|8|4|7|\n",
      "|7|5|2|1|8|4|9|6|3|\n",
      "|2|8|5|7|1|3|6|9|4|\n",
      "|4|6|3|8|5|9|2|7|1|\n",
      "|9|7|1|2|4|6|3|8|5|\n",
      "|1|2|7|5|9|8|4|3|6|\n",
      "|6|3|8|4|7|1|5|2|9|\n",
      "|5|9|4|3|6|2|7|1|8|\n",
      "time elapsed (s): 1.3229231999994226\n"
     ]
    }
   ],
   "source": [
    "start = perf_counter()\n",
    "solve(board, domains, avails)\n",
    "end = perf_counter()\n",
    "print(f\"time elapsed (s): {end - start}\")"
   ]
  },
  {
   "cell_type": "code",
   "execution_count": null,
   "id": "594e760a-7b06-41c1-8ce0-aa71c26357d0",
   "metadata": {},
   "outputs": [],
   "source": []
  },
  {
   "cell_type": "code",
   "execution_count": null,
   "id": "c2679e87-8932-4732-a50c-e7b20a470283",
   "metadata": {},
   "outputs": [],
   "source": []
  },
  {
   "cell_type": "code",
   "execution_count": null,
   "id": "dcfb61e0-777e-40f8-9cf8-98c82c14e70e",
   "metadata": {},
   "outputs": [],
   "source": []
  }
 ],
 "metadata": {
  "kernelspec": {
   "display_name": "Python [conda env:cs411]",
   "language": "python",
   "name": "conda-env-cs411-py"
  },
  "language_info": {
   "codemirror_mode": {
    "name": "ipython",
    "version": 3
   },
   "file_extension": ".py",
   "mimetype": "text/x-python",
   "name": "python",
   "nbconvert_exporter": "python",
   "pygments_lexer": "ipython3",
   "version": "3.10.2"
  }
 },
 "nbformat": 4,
 "nbformat_minor": 5
}
